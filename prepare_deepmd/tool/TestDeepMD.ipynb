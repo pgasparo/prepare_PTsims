{
 "cells": [
  {
   "cell_type": "code",
   "execution_count": 104,
   "metadata": {},
   "outputs": [],
   "source": [
    "%matplotlib inline\n",
    "import matplotlib.pyplot as plt\n",
    "plt.style.use('seaborn-whitegrid')\n",
    "from ase import Atoms\n",
    "from ase.io import read,write\n",
    "import numpy as np\n",
    "from deepmd.calculator import DP\n",
    "from tqdm import tqdm"
   ]
  },
  {
   "cell_type": "code",
   "execution_count": 4,
   "metadata": {},
   "outputs": [],
   "source": [
    "from deepmd.calculator import DP"
   ]
  },
  {
   "cell_type": "markdown",
   "metadata": {},
   "source": [
    "## Test the potential"
   ]
  },
  {
   "cell_type": "code",
   "execution_count": 88,
   "metadata": {},
   "outputs": [],
   "source": [
    "labels = {\n",
    "  0:\"Au\",\n",
    "  1:\"H\",\n",
    "  2:\"C\",\n",
    "  3:\"Br\",\n",
    "  4:\"N\",\n",
    "  5:\"O\"\n",
    "}"
   ]
  },
  {
   "cell_type": "code",
   "execution_count": 95,
   "metadata": {},
   "outputs": [],
   "source": [
    "typesref=np.loadtxt(\"NVT_C28H72Au224Br2_8000/type.raw\")\n",
    "listpos=np.load(\"NVT_C28H72Au224Br2_8000/set.000/coord.npy\")\n",
    "listenrgies=np.load(\"NVT_C28H72Au224Br2_8000/set.000/energy.npy\")\n",
    "listbox=np.load(\"NVT_C28H72Au224Br2_8000/set.000/box.npy\")"
   ]
  },
  {
   "cell_type": "code",
   "execution_count": 113,
   "metadata": {},
   "outputs": [
    {
     "name": "stderr",
     "output_type": "stream",
     "text": [
      "1699it [2:56:29,  6.23s/it]\n"
     ]
    }
   ],
   "source": [
    "# get the symbols\n",
    "chem_symbs=[labels[i] for i in typesref]\n",
    "# loope over the frames\n",
    "preds=[]\n",
    "for fr,pos in tqdm(enumerate(listpos)):\n",
    "    # create the ASE frame\n",
    "    atoms_test = Atoms(chem_symbs, \n",
    "                       positions=pos.reshape(-1,3), \n",
    "                       cell=listbox[fr].reshape(-1,3), \n",
    "                       pbc=True)\n",
    "    atoms_test.calc = DP(model=\"graph-new-hpz4.db\")\n",
    "    preds.append(atoms_test.get_potential_energy())"
   ]
  },
  {
   "cell_type": "code",
   "execution_count": 117,
   "metadata": {},
   "outputs": [
    {
     "data": {
      "image/png": "[encoded data removed]",
      "text/plain": [
       "<Figure size 432x288 with 1 Axes>"
      ]
     },
     "metadata": {},
     "output_type": "display_data"
    }
   ],
   "source": [
    "plt.plot(preds, listenrgies, 'o', color='black');\n",
    "plt.plot(listenrgies, listenrgies, color='red');"
   ]
  },
  {
   "cell_type": "code",
   "execution_count": 119,
   "metadata": {},
   "outputs": [
    {
     "data": {
      "text/plain": [
       "0.9888772398772827"
      ]
     },
     "execution_count": 119,
     "metadata": {},
     "output_type": "execute_result"
    }
   ],
   "source": [
    "from sklearn.metrics import r2_score\n",
    "r2_score(preds, listenrgies)"
   ]
  },
  {
   "cell_type": "code",
   "execution_count": 120,
   "metadata": {},
   "outputs": [
    {
     "data": {
      "text/plain": [
       "978"
      ]
     },
     "execution_count": 120,
     "metadata": {},
     "output_type": "execute_result"
    }
   ],
   "source": [
    "len(pos)"
   ]
  },
  {
   "cell_type": "markdown",
   "metadata": {},
   "source": [
    "## Use the potential"
   ]
  },
  {
   "cell_type": "code",
   "execution_count": 22,
   "metadata": {},
   "outputs": [],
   "source": [
    "newstr=read(\"C144H278Au896N12.pdb\")\n",
    "newstr.calc = DP(model=\"graph-new-hpz4.db\")"
   ]
  },
  {
   "cell_type": "code",
   "execution_count": 5,
   "metadata": {},
   "outputs": [
    {
     "ename": "NameError",
     "evalue": "name 'newstr' is not defined",
     "output_type": "error",
     "traceback": [
      "\u001b[0;31m---------------------------------------------------------------------------\u001b[0m",
      "\u001b[0;31mNameError\u001b[0m                                 Traceback (most recent call last)",
      "\u001b[0;32m<ipython-input-5-1a5a52c2cc6b>\u001b[0m in \u001b[0;36m<module>\u001b[0;34m\u001b[0m\n\u001b[1;32m      1\u001b[0m \u001b[0;32mimport\u001b[0m \u001b[0mase\u001b[0m\u001b[0;34m.\u001b[0m\u001b[0mvisualize\u001b[0m\u001b[0;34m\u001b[0m\u001b[0;34m\u001b[0m\u001b[0m\n\u001b[0;32m----> 2\u001b[0;31m \u001b[0mase\u001b[0m\u001b[0;34m.\u001b[0m\u001b[0mvisualize\u001b[0m\u001b[0;34m.\u001b[0m\u001b[0mview\u001b[0m\u001b[0;34m(\u001b[0m\u001b[0mnewstr\u001b[0m\u001b[0;34m,\u001b[0m \u001b[0mviewer\u001b[0m\u001b[0;34m=\u001b[0m\u001b[0;34m\"ase\"\u001b[0m\u001b[0;34m)\u001b[0m\u001b[0;34m\u001b[0m\u001b[0;34m\u001b[0m\u001b[0m\n\u001b[0m",
      "\u001b[0;31mNameError\u001b[0m: name 'newstr' is not defined"
     ]
    }
   ],
   "source": [
    "import ase.visualize\n",
    "ase.visualize.view(newstr, viewer=\"ase\")"
   ]
  },
  {
   "cell_type": "code",
   "execution_count": null,
   "metadata": {},
   "outputs": [],
   "source": [
    "#newstr=Atoms( positions=molbig.positions, \n",
    "#              cell=molbig.cell,\n",
    "#              symbols=molbig.symbols,\n",
    "#              pbc=True,\n",
    "#              calculator=DP(model=\"graph.db\"))"
   ]
  },
  {
   "cell_type": "code",
   "execution_count": 6,
   "metadata": {},
   "outputs": [
    {
     "data": {
      "text/plain": [
       "Atoms(symbols='C144H278Au896N12', pbc=True, cell=[41.272, 40.849, 48.118], atomtypes=..., bfactor=..., occupancy=..., residuenames=..., residuenumbers=..., calculator=DP(...))"
      ]
     },
     "execution_count": 6,
     "metadata": {},
     "output_type": "execute_result"
    }
   ],
   "source": [
    "newstr"
   ]
  },
  {
   "cell_type": "code",
   "execution_count": 9,
   "metadata": {},
   "outputs": [],
   "source": [
    "from ase.constraints import FixAtoms\n",
    "\n",
    "l_z=list(set(list(map(int,newstr.positions[:,2]))))\n",
    "fix_z=min(l_z)+(max(l_z)-min(l_z))/2\n",
    "idatoms_tobefixed = np.where(newstr.positions[:,2]<fix_z)[0]\n",
    "atoms_tobefixed = FixAtoms(idatoms_tobefixed)\n",
    "newstr.set_constraint(atoms_tobefixed)"
   ]
  },
  {
   "cell_type": "code",
   "execution_count": 14,
   "metadata": {},
   "outputs": [
    {
     "name": "stdout",
     "output_type": "stream",
     "text": [
      "[-840506.06143444]\n",
      "[-840506.06143444]\n",
      "[-840506.06143444]\n",
      "[-840506.06143444]\n",
      "[-840506.06143444]\n",
      "[-840506.06143444]\n",
      "[-840506.06143444]\n",
      "[-840506.06143444]\n",
      "1.03 s ± 29.3 ms per loop (mean ± std. dev. of 7 runs, 1 loop each)\n"
     ]
    }
   ],
   "source": [
    "%%timeit\n",
    "print(newstr.get_potential_energy())"
   ]
  },
  {
   "cell_type": "code",
   "execution_count": 11,
   "metadata": {},
   "outputs": [
    {
     "name": "stdout",
     "output_type": "stream",
     "text": [
      "       Step     Time          Energy         fmax\n",
      "LBFGS:    0 14:43:00  -840470.705204        9.3624\n",
      "LBFGS:    1 14:43:05  -840477.925694        8.3118\n",
      "LBFGS:    2 14:43:09  -840484.410031        3.5043\n",
      "LBFGS:    3 14:43:13  -840487.007599        2.9266\n",
      "LBFGS:    4 14:43:17  -840489.226368        2.6118\n",
      "LBFGS:    5 14:43:22  -840491.400051        3.4202\n",
      "LBFGS:    6 14:43:26  -840492.633983        3.7255\n",
      "LBFGS:    7 14:43:30  -840494.068206        2.0331\n",
      "LBFGS:    8 14:43:35  -840495.470519        1.5652\n",
      "LBFGS:    9 14:43:39  -840496.297241        1.1599\n",
      "LBFGS:   10 14:43:43  -840497.070945        1.4821\n",
      "LBFGS:   11 14:43:47  -840497.838133        1.4801\n",
      "LBFGS:   12 14:43:52  -840498.490654        1.2296\n",
      "LBFGS:   13 14:43:56  -840498.984016        0.6639\n",
      "LBFGS:   14 14:44:01  -840499.446900        0.7638\n",
      "LBFGS:   15 14:44:05  -840499.821797        1.1168\n",
      "LBFGS:   16 14:44:09  -840500.264473        0.7677\n",
      "LBFGS:   17 14:44:14  -840500.697087        0.7239\n",
      "LBFGS:   18 14:44:18  -840501.067105        0.8070\n",
      "LBFGS:   19 14:44:22  -840501.407251        0.6892\n",
      "LBFGS:   20 14:44:26  -840501.719131        0.7310\n",
      "LBFGS:   21 14:44:30  -840501.984129        0.6676\n",
      "LBFGS:   22 14:44:34  -840502.236266        0.7811\n",
      "LBFGS:   23 14:44:38  -840502.469516        0.9334\n",
      "LBFGS:   24 14:44:43  -840502.677592        0.6038\n",
      "LBFGS:   25 14:44:47  -840502.884814        0.5680\n",
      "LBFGS:   26 14:44:51  -840503.065515        0.5808\n",
      "LBFGS:   27 14:44:55  -840503.246564        0.4817\n",
      "LBFGS:   28 14:44:59  -840503.405536        0.4241\n",
      "LBFGS:   29 14:45:03  -840503.566550        0.5726\n",
      "LBFGS:   30 14:45:07  -840503.727894        0.7796\n",
      "LBFGS:   31 14:45:11  -840503.871713        0.8115\n",
      "LBFGS:   32 14:45:16  -840503.991184        0.5919\n",
      "LBFGS:   33 14:45:20  -840504.163740        0.6577\n",
      "LBFGS:   34 14:45:24  -840504.322903        0.9808\n",
      "LBFGS:   35 14:45:28  -840504.410136        1.3336\n",
      "LBFGS:   36 14:45:32  -840504.531854        0.4639\n",
      "LBFGS:   37 14:45:36  -840504.664577        0.3224\n",
      "LBFGS:   38 14:45:40  -840504.757655        0.5947\n",
      "LBFGS:   39 14:45:44  -840504.857582        0.4771\n",
      "LBFGS:   40 14:45:48  -840504.931225        0.4169\n",
      "LBFGS:   41 14:45:53  -840505.003743        0.3438\n",
      "LBFGS:   42 14:45:57  -840505.064315        0.4041\n",
      "LBFGS:   43 14:46:01  -840505.141851        0.3352\n",
      "LBFGS:   44 14:46:05  -840505.212256        0.4107\n",
      "LBFGS:   45 14:46:09  -840505.275185        0.4925\n",
      "LBFGS:   46 14:46:14  -840505.336774        0.2630\n",
      "LBFGS:   47 14:46:18  -840505.415751        0.3159\n",
      "LBFGS:   48 14:46:22  -840505.464701        0.3603\n",
      "LBFGS:   49 14:46:26  -840505.528936        0.2867\n",
      "LBFGS:   50 14:46:30  -840505.581962        0.2503\n",
      "LBFGS:   51 14:46:34  -840505.625841        0.2091\n",
      "LBFGS:   52 14:46:38  -840505.669601        0.2364\n",
      "LBFGS:   53 14:46:42  -840505.707569        0.2840\n",
      "LBFGS:   54 14:46:46  -840505.751204        0.3232\n",
      "LBFGS:   55 14:46:50  -840505.793857        0.3931\n",
      "LBFGS:   56 14:46:54  -840505.833049        0.3094\n",
      "LBFGS:   57 14:46:58  -840505.866268        0.2314\n",
      "LBFGS:   58 14:47:02  -840505.893740        0.3081\n",
      "LBFGS:   59 14:47:06  -840505.913349        0.9066\n",
      "LBFGS:   60 14:47:10  -840505.932444        0.4138\n",
      "LBFGS:   61 14:47:14  -840505.954435        0.2211\n",
      "LBFGS:   62 14:47:18  -840505.969373        0.5233\n",
      "LBFGS:   63 14:47:22  -840505.981104        0.2509\n",
      "LBFGS:   64 14:47:26  -840505.994943        0.1949\n",
      "LBFGS:   65 14:47:31  -840506.011983        0.2301\n",
      "LBFGS:   66 14:47:35  -840506.021160        0.1175\n",
      "LBFGS:   67 14:47:39  -840506.031054        0.1780\n",
      "LBFGS:   68 14:47:43  -840506.038031        0.1244\n",
      "LBFGS:   69 14:47:47  -840506.044347        0.1009\n",
      "LBFGS:   70 14:47:51  -840506.050482        0.1273\n",
      "LBFGS:   71 14:47:55  -840506.056242        0.1142\n",
      "LBFGS:   72 14:47:59  -840506.061434        0.0912\n",
      "Final energy is [-840506.06143444] eV\n",
      "Final energy is [-30888.01356499] hartree\n",
      "All done, final positions are:\n",
      "[[39.798      39.998      10.        ]\n",
      " [14.74        1.702      10.        ]\n",
      " [13.266      39.998      10.        ]\n",
      " ...\n",
      " [ 9.42025678 21.37695716 21.46073044]\n",
      " [ 4.76060484 18.71099992 21.36748271]\n",
      " [ 6.98964837 12.72622235 21.36356971]]\n"
     ]
    }
   ],
   "source": [
    "from ase.optimize.lbfgs import LBFGS\n",
    "\n",
    "hareV=27.211399\n",
    "\n",
    "opt = LBFGS(newstr)\n",
    "opt.run(fmax=0.1)\n",
    "forces = newstr.get_forces()\n",
    "energy = newstr.get_potential_energy()\n",
    "positions = newstr.get_positions()\n",
    "\n",
    "#\n",
    "print(\"Final energy is\", energy, \"eV\")\n",
    "print(\"Final energy is\", energy/hareV, \"hartree\")\n",
    "\n",
    "print(\"All done, final positions are:\")\n",
    "print(positions)"
   ]
  },
  {
   "cell_type": "code",
   "execution_count": 12,
   "metadata": {},
   "outputs": [],
   "source": [
    "write(\"C144H278Au896N12-optimized-fix.pdb\",newstr)"
   ]
  },
  {
   "cell_type": "code",
   "execution_count": 17,
   "metadata": {},
   "outputs": [],
   "source": [
    "# Set the momenta corresponding to T=200K\n",
    "from ase.atoms import Atoms\n",
    "from ase.md.velocitydistribution import MaxwellBoltzmannDistribution\n",
    "from ase.md.verlet import VelocityVerlet\n",
    "from ase.md.langevin import Langevin\n",
    "from ase import units\n",
    "from ase.io.trajectory import Trajectory\n",
    "import ase.io\n",
    "from ase import units\n",
    "hareV=27.211399"
   ]
  },
  {
   "cell_type": "code",
   "execution_count": 21,
   "metadata": {},
   "outputs": [
    {
     "name": "stdout",
     "output_type": "stream",
     "text": [
      "Energy per atom: Epot = -631.948eV  Ekin = 0.020eV (T=151K)  Etot = -631.928eV\n",
      "Energy per atom: Epot = -631.948eV  Ekin = 0.020eV (T=151K)  Etot = -631.928eV\n",
      "Energy per atom: Epot = -631.306eV  Ekin = 22.025eV (T=170393K)  Etot = -609.281eV\n"
     ]
    },
    {
     "ename": "KeyboardInterrupt",
     "evalue": "",
     "output_type": "error",
     "traceback": [
      "\u001b[0;31m---------------------------------------------------------------------------\u001b[0m",
      "\u001b[0;31mKeyboardInterrupt\u001b[0m                         Traceback (most recent call last)",
      "\u001b[0;32m<ipython-input-21-98234f32da00>\u001b[0m in \u001b[0;36m<module>\u001b[0;34m\u001b[0m\n\u001b[1;32m     21\u001b[0m \u001b[0;31m# Now run the dynamics\u001b[0m\u001b[0;34m\u001b[0m\u001b[0;34m\u001b[0m\u001b[0;34m\u001b[0m\u001b[0m\n\u001b[1;32m     22\u001b[0m \u001b[0mprintenergy\u001b[0m\u001b[0;34m(\u001b[0m\u001b[0mnewstr\u001b[0m\u001b[0;34m)\u001b[0m\u001b[0;34m\u001b[0m\u001b[0;34m\u001b[0m\u001b[0m\n\u001b[0;32m---> 23\u001b[0;31m \u001b[0mdyn\u001b[0m\u001b[0;34m.\u001b[0m\u001b[0mrun\u001b[0m\u001b[0;34m(\u001b[0m\u001b[0;36m30000\u001b[0m\u001b[0;34m)\u001b[0m\u001b[0;34m\u001b[0m\u001b[0;34m\u001b[0m\u001b[0m\n\u001b[0m",
      "\u001b[0;32m~/.pyenv/versions/miniconda3-latest/envs/deepmd/lib/python3.8/site-packages/ase/md/md.py\u001b[0m in \u001b[0;36mrun\u001b[0;34m(self, steps)\u001b[0m\n\u001b[1;32m     57\u001b[0m         \u001b[0;34m\"\"\" Call Dynamics.run and adjust max_steps \"\"\"\u001b[0m\u001b[0;34m\u001b[0m\u001b[0;34m\u001b[0m\u001b[0m\n\u001b[1;32m     58\u001b[0m         \u001b[0mself\u001b[0m\u001b[0;34m.\u001b[0m\u001b[0mmax_steps\u001b[0m \u001b[0;34m=\u001b[0m \u001b[0msteps\u001b[0m \u001b[0;34m+\u001b[0m \u001b[0mself\u001b[0m\u001b[0;34m.\u001b[0m\u001b[0mnsteps\u001b[0m\u001b[0;34m\u001b[0m\u001b[0;34m\u001b[0m\u001b[0m\n\u001b[0;32m---> 59\u001b[0;31m         \u001b[0;32mreturn\u001b[0m \u001b[0mDynamics\u001b[0m\u001b[0;34m.\u001b[0m\u001b[0mrun\u001b[0m\u001b[0;34m(\u001b[0m\u001b[0mself\u001b[0m\u001b[0;34m)\u001b[0m\u001b[0;34m\u001b[0m\u001b[0;34m\u001b[0m\u001b[0m\n\u001b[0m\u001b[1;32m     60\u001b[0m \u001b[0;34m\u001b[0m\u001b[0m\n\u001b[1;32m     61\u001b[0m     \u001b[0;32mdef\u001b[0m \u001b[0mget_time\u001b[0m\u001b[0;34m(\u001b[0m\u001b[0mself\u001b[0m\u001b[0;34m)\u001b[0m\u001b[0;34m:\u001b[0m\u001b[0;34m\u001b[0m\u001b[0;34m\u001b[0m\u001b[0m\n",
      "\u001b[0;32m~/.pyenv/versions/miniconda3-latest/envs/deepmd/lib/python3.8/site-packages/ase/optimize/optimize.py\u001b[0m in \u001b[0;36mrun\u001b[0;34m(self)\u001b[0m\n\u001b[1;32m    160\u001b[0m         *steps*.\"\"\"\n\u001b[1;32m    161\u001b[0m \u001b[0;34m\u001b[0m\u001b[0m\n\u001b[0;32m--> 162\u001b[0;31m         \u001b[0;32mfor\u001b[0m \u001b[0mconverged\u001b[0m \u001b[0;32min\u001b[0m \u001b[0mDynamics\u001b[0m\u001b[0;34m.\u001b[0m\u001b[0mirun\u001b[0m\u001b[0;34m(\u001b[0m\u001b[0mself\u001b[0m\u001b[0;34m)\u001b[0m\u001b[0;34m:\u001b[0m\u001b[0;34m\u001b[0m\u001b[0;34m\u001b[0m\u001b[0m\n\u001b[0m\u001b[1;32m    163\u001b[0m             \u001b[0;32mpass\u001b[0m\u001b[0;34m\u001b[0m\u001b[0;34m\u001b[0m\u001b[0m\n\u001b[1;32m    164\u001b[0m         \u001b[0;32mreturn\u001b[0m \u001b[0mconverged\u001b[0m\u001b[0;34m\u001b[0m\u001b[0;34m\u001b[0m\u001b[0m\n",
      "\u001b[0;32m~/.pyenv/versions/miniconda3-latest/envs/deepmd/lib/python3.8/site-packages/ase/optimize/optimize.py\u001b[0m in \u001b[0;36mirun\u001b[0;34m(self)\u001b[0m\n\u001b[1;32m    139\u001b[0m \u001b[0;34m\u001b[0m\u001b[0m\n\u001b[1;32m    140\u001b[0m             \u001b[0;31m# compute the next step\u001b[0m\u001b[0;34m\u001b[0m\u001b[0;34m\u001b[0m\u001b[0;34m\u001b[0m\u001b[0m\n\u001b[0;32m--> 141\u001b[0;31m             \u001b[0mself\u001b[0m\u001b[0;34m.\u001b[0m\u001b[0mstep\u001b[0m\u001b[0;34m(\u001b[0m\u001b[0;34m)\u001b[0m\u001b[0;34m\u001b[0m\u001b[0;34m\u001b[0m\u001b[0m\n\u001b[0m\u001b[1;32m    142\u001b[0m             \u001b[0mself\u001b[0m\u001b[0;34m.\u001b[0m\u001b[0mnsteps\u001b[0m \u001b[0;34m+=\u001b[0m \u001b[0;36m1\u001b[0m\u001b[0;34m\u001b[0m\u001b[0;34m\u001b[0m\u001b[0m\n\u001b[1;32m    143\u001b[0m \u001b[0;34m\u001b[0m\u001b[0m\n",
      "\u001b[0;32m~/.pyenv/versions/miniconda3-latest/envs/deepmd/lib/python3.8/site-packages/ase/md/langevin.py\u001b[0m in \u001b[0;36mstep\u001b[0;34m(self, f)\u001b[0m\n\u001b[1;32m    141\u001b[0m         self.v = (self.atoms.get_positions() - x -\n\u001b[1;32m    142\u001b[0m                   self.c5 * self.eta) / self.dt\n\u001b[0;32m--> 143\u001b[0;31m         \u001b[0mf\u001b[0m \u001b[0;34m=\u001b[0m \u001b[0matoms\u001b[0m\u001b[0;34m.\u001b[0m\u001b[0mget_forces\u001b[0m\u001b[0;34m(\u001b[0m\u001b[0mmd\u001b[0m\u001b[0;34m=\u001b[0m\u001b[0;32mTrue\u001b[0m\u001b[0;34m)\u001b[0m\u001b[0;34m\u001b[0m\u001b[0;34m\u001b[0m\u001b[0m\n\u001b[0m\u001b[1;32m    144\u001b[0m \u001b[0;34m\u001b[0m\u001b[0m\n\u001b[1;32m    145\u001b[0m         \u001b[0;31m# Update the velocities\u001b[0m\u001b[0;34m\u001b[0m\u001b[0;34m\u001b[0m\u001b[0;34m\u001b[0m\u001b[0m\n",
      "\u001b[0;32m~/.pyenv/versions/miniconda3-latest/envs/deepmd/lib/python3.8/site-packages/ase/atoms.py\u001b[0m in \u001b[0;36mget_forces\u001b[0;34m(self, apply_constraint, md)\u001b[0m\n\u001b[1;32m    792\u001b[0m         \u001b[0;32mif\u001b[0m \u001b[0mself\u001b[0m\u001b[0;34m.\u001b[0m\u001b[0m_calc\u001b[0m \u001b[0;32mis\u001b[0m \u001b[0;32mNone\u001b[0m\u001b[0;34m:\u001b[0m\u001b[0;34m\u001b[0m\u001b[0;34m\u001b[0m\u001b[0m\n\u001b[1;32m    793\u001b[0m             \u001b[0;32mraise\u001b[0m \u001b[0mRuntimeError\u001b[0m\u001b[0;34m(\u001b[0m\u001b[0;34m'Atoms object has no calculator.'\u001b[0m\u001b[0;34m)\u001b[0m\u001b[0;34m\u001b[0m\u001b[0;34m\u001b[0m\u001b[0m\n\u001b[0;32m--> 794\u001b[0;31m         \u001b[0mforces\u001b[0m \u001b[0;34m=\u001b[0m \u001b[0mself\u001b[0m\u001b[0;34m.\u001b[0m\u001b[0m_calc\u001b[0m\u001b[0;34m.\u001b[0m\u001b[0mget_forces\u001b[0m\u001b[0;34m(\u001b[0m\u001b[0mself\u001b[0m\u001b[0;34m)\u001b[0m\u001b[0;34m\u001b[0m\u001b[0;34m\u001b[0m\u001b[0m\n\u001b[0m\u001b[1;32m    795\u001b[0m \u001b[0;34m\u001b[0m\u001b[0m\n\u001b[1;32m    796\u001b[0m         \u001b[0;32mif\u001b[0m \u001b[0mapply_constraint\u001b[0m\u001b[0;34m:\u001b[0m\u001b[0;34m\u001b[0m\u001b[0;34m\u001b[0m\u001b[0m\n",
      "\u001b[0;32m~/.pyenv/versions/miniconda3-latest/envs/deepmd/lib/python3.8/site-packages/ase/calculators/calculator.py\u001b[0m in \u001b[0;36mget_forces\u001b[0;34m(self, atoms)\u001b[0m\n\u001b[1;32m    697\u001b[0m \u001b[0;34m\u001b[0m\u001b[0m\n\u001b[1;32m    698\u001b[0m     \u001b[0;32mdef\u001b[0m \u001b[0mget_forces\u001b[0m\u001b[0;34m(\u001b[0m\u001b[0mself\u001b[0m\u001b[0;34m,\u001b[0m \u001b[0matoms\u001b[0m\u001b[0;34m=\u001b[0m\u001b[0;32mNone\u001b[0m\u001b[0;34m)\u001b[0m\u001b[0;34m:\u001b[0m\u001b[0;34m\u001b[0m\u001b[0;34m\u001b[0m\u001b[0m\n\u001b[0;32m--> 699\u001b[0;31m         \u001b[0;32mreturn\u001b[0m \u001b[0mself\u001b[0m\u001b[0;34m.\u001b[0m\u001b[0mget_property\u001b[0m\u001b[0;34m(\u001b[0m\u001b[0;34m'forces'\u001b[0m\u001b[0;34m,\u001b[0m \u001b[0matoms\u001b[0m\u001b[0;34m)\u001b[0m\u001b[0;34m\u001b[0m\u001b[0;34m\u001b[0m\u001b[0m\n\u001b[0m\u001b[1;32m    700\u001b[0m \u001b[0;34m\u001b[0m\u001b[0m\n\u001b[1;32m    701\u001b[0m     \u001b[0;32mdef\u001b[0m \u001b[0mget_stress\u001b[0m\u001b[0;34m(\u001b[0m\u001b[0mself\u001b[0m\u001b[0;34m,\u001b[0m \u001b[0matoms\u001b[0m\u001b[0;34m=\u001b[0m\u001b[0;32mNone\u001b[0m\u001b[0;34m)\u001b[0m\u001b[0;34m:\u001b[0m\u001b[0;34m\u001b[0m\u001b[0;34m\u001b[0m\u001b[0m\n",
      "\u001b[0;32m~/.pyenv/versions/miniconda3-latest/envs/deepmd/lib/python3.8/site-packages/ase/calculators/calculator.py\u001b[0m in \u001b[0;36mget_property\u001b[0;34m(self, name, atoms, allow_calculation)\u001b[0m\n\u001b[1;32m    736\u001b[0m             \u001b[0;32mif\u001b[0m \u001b[0;32mnot\u001b[0m \u001b[0mallow_calculation\u001b[0m\u001b[0;34m:\u001b[0m\u001b[0;34m\u001b[0m\u001b[0;34m\u001b[0m\u001b[0m\n\u001b[1;32m    737\u001b[0m                 \u001b[0;32mreturn\u001b[0m \u001b[0;32mNone\u001b[0m\u001b[0;34m\u001b[0m\u001b[0;34m\u001b[0m\u001b[0m\n\u001b[0;32m--> 738\u001b[0;31m             \u001b[0mself\u001b[0m\u001b[0;34m.\u001b[0m\u001b[0mcalculate\u001b[0m\u001b[0;34m(\u001b[0m\u001b[0matoms\u001b[0m\u001b[0;34m,\u001b[0m \u001b[0;34m[\u001b[0m\u001b[0mname\u001b[0m\u001b[0;34m]\u001b[0m\u001b[0;34m,\u001b[0m \u001b[0msystem_changes\u001b[0m\u001b[0;34m)\u001b[0m\u001b[0;34m\u001b[0m\u001b[0;34m\u001b[0m\u001b[0m\n\u001b[0m\u001b[1;32m    739\u001b[0m \u001b[0;34m\u001b[0m\u001b[0m\n\u001b[1;32m    740\u001b[0m         \u001b[0;32mif\u001b[0m \u001b[0mname\u001b[0m \u001b[0;34m==\u001b[0m \u001b[0;34m'magmom'\u001b[0m \u001b[0;32mand\u001b[0m \u001b[0;34m'magmom'\u001b[0m \u001b[0;32mnot\u001b[0m \u001b[0;32min\u001b[0m \u001b[0mself\u001b[0m\u001b[0;34m.\u001b[0m\u001b[0mresults\u001b[0m\u001b[0;34m:\u001b[0m\u001b[0;34m\u001b[0m\u001b[0;34m\u001b[0m\u001b[0m\n",
      "\u001b[0;32m~/.pyenv/versions/miniconda3-latest/envs/deepmd/lib/python3.8/site-packages/deepmd/calculator.py\u001b[0m in \u001b[0;36mcalculate\u001b[0;34m(self, atoms, properties, system_changes)\u001b[0m\n\u001b[1;32m     49\u001b[0m         \u001b[0msymbols\u001b[0m \u001b[0;34m=\u001b[0m \u001b[0matoms\u001b[0m\u001b[0;34m.\u001b[0m\u001b[0mget_chemical_symbols\u001b[0m\u001b[0;34m(\u001b[0m\u001b[0;34m)\u001b[0m\u001b[0;34m\u001b[0m\u001b[0;34m\u001b[0m\u001b[0m\n\u001b[1;32m     50\u001b[0m         \u001b[0matype\u001b[0m \u001b[0;34m=\u001b[0m \u001b[0;34m[\u001b[0m\u001b[0mself\u001b[0m\u001b[0;34m.\u001b[0m\u001b[0mtype_dict\u001b[0m\u001b[0;34m[\u001b[0m\u001b[0mk\u001b[0m\u001b[0;34m]\u001b[0m \u001b[0;32mfor\u001b[0m \u001b[0mk\u001b[0m \u001b[0;32min\u001b[0m \u001b[0msymbols\u001b[0m\u001b[0;34m]\u001b[0m\u001b[0;34m\u001b[0m\u001b[0;34m\u001b[0m\u001b[0m\n\u001b[0;32m---> 51\u001b[0;31m         \u001b[0me\u001b[0m\u001b[0;34m,\u001b[0m \u001b[0mf\u001b[0m\u001b[0;34m,\u001b[0m \u001b[0mv\u001b[0m \u001b[0;34m=\u001b[0m \u001b[0mself\u001b[0m\u001b[0;34m.\u001b[0m\u001b[0mdp\u001b[0m\u001b[0;34m.\u001b[0m\u001b[0meval\u001b[0m\u001b[0;34m(\u001b[0m\u001b[0mcoords\u001b[0m\u001b[0;34m=\u001b[0m\u001b[0mcoord\u001b[0m\u001b[0;34m,\u001b[0m \u001b[0mcells\u001b[0m\u001b[0;34m=\u001b[0m\u001b[0mcell\u001b[0m\u001b[0;34m,\u001b[0m \u001b[0matom_types\u001b[0m\u001b[0;34m=\u001b[0m\u001b[0matype\u001b[0m\u001b[0;34m)\u001b[0m\u001b[0;34m\u001b[0m\u001b[0;34m\u001b[0m\u001b[0m\n\u001b[0m\u001b[1;32m     52\u001b[0m         \u001b[0mself\u001b[0m\u001b[0;34m.\u001b[0m\u001b[0mresults\u001b[0m\u001b[0;34m[\u001b[0m\u001b[0;34m'energy'\u001b[0m\u001b[0;34m]\u001b[0m \u001b[0;34m=\u001b[0m \u001b[0me\u001b[0m\u001b[0;34m[\u001b[0m\u001b[0;36m0\u001b[0m\u001b[0;34m]\u001b[0m\u001b[0;34m\u001b[0m\u001b[0;34m\u001b[0m\u001b[0m\n\u001b[1;32m     53\u001b[0m         \u001b[0mself\u001b[0m\u001b[0;34m.\u001b[0m\u001b[0mresults\u001b[0m\u001b[0;34m[\u001b[0m\u001b[0;34m'forces'\u001b[0m\u001b[0;34m]\u001b[0m \u001b[0;34m=\u001b[0m \u001b[0mf\u001b[0m\u001b[0;34m[\u001b[0m\u001b[0;36m0\u001b[0m\u001b[0;34m]\u001b[0m\u001b[0;34m\u001b[0m\u001b[0;34m\u001b[0m\u001b[0m\n",
      "\u001b[0;32m~/.pyenv/versions/miniconda3-latest/envs/deepmd/lib/python3.8/site-packages/deepmd/DeepPot.py\u001b[0m in \u001b[0;36meval\u001b[0;34m(self, coords, cells, atom_types, fparam, aparam, atomic)\u001b[0m\n\u001b[1;32m     96\u001b[0m             \u001b[0;32mreturn\u001b[0m \u001b[0mself\u001b[0m\u001b[0;34m.\u001b[0m\u001b[0meval_inner\u001b[0m\u001b[0;34m(\u001b[0m\u001b[0mcoords\u001b[0m\u001b[0;34m,\u001b[0m \u001b[0mcells\u001b[0m\u001b[0;34m,\u001b[0m \u001b[0matom_types\u001b[0m\u001b[0;34m,\u001b[0m \u001b[0mfparam\u001b[0m \u001b[0;34m=\u001b[0m \u001b[0mfparam\u001b[0m\u001b[0;34m,\u001b[0m \u001b[0maparam\u001b[0m \u001b[0;34m=\u001b[0m \u001b[0maparam\u001b[0m\u001b[0;34m,\u001b[0m \u001b[0matomic\u001b[0m \u001b[0;34m=\u001b[0m \u001b[0matomic\u001b[0m\u001b[0;34m)\u001b[0m\u001b[0;34m\u001b[0m\u001b[0;34m\u001b[0m\u001b[0m\n\u001b[1;32m     97\u001b[0m         \u001b[0;32melse\u001b[0m \u001b[0;34m:\u001b[0m\u001b[0;34m\u001b[0m\u001b[0;34m\u001b[0m\u001b[0m\n\u001b[0;32m---> 98\u001b[0;31m             \u001b[0me\u001b[0m\u001b[0;34m,\u001b[0m \u001b[0mf\u001b[0m\u001b[0;34m,\u001b[0m \u001b[0mv\u001b[0m \u001b[0;34m=\u001b[0m \u001b[0mself\u001b[0m\u001b[0;34m.\u001b[0m\u001b[0meval_inner\u001b[0m\u001b[0;34m(\u001b[0m\u001b[0mcoords\u001b[0m\u001b[0;34m,\u001b[0m \u001b[0mcells\u001b[0m\u001b[0;34m,\u001b[0m \u001b[0matom_types\u001b[0m\u001b[0;34m,\u001b[0m \u001b[0mfparam\u001b[0m \u001b[0;34m=\u001b[0m \u001b[0mfparam\u001b[0m\u001b[0;34m,\u001b[0m \u001b[0maparam\u001b[0m \u001b[0;34m=\u001b[0m \u001b[0maparam\u001b[0m\u001b[0;34m,\u001b[0m \u001b[0matomic\u001b[0m \u001b[0;34m=\u001b[0m \u001b[0matomic\u001b[0m\u001b[0;34m)\u001b[0m\u001b[0;34m\u001b[0m\u001b[0;34m\u001b[0m\u001b[0m\n\u001b[0m\u001b[1;32m     99\u001b[0m             \u001b[0;32mif\u001b[0m \u001b[0mself\u001b[0m\u001b[0;34m.\u001b[0m\u001b[0mmodifier_type\u001b[0m \u001b[0;32mis\u001b[0m \u001b[0;32mnot\u001b[0m \u001b[0;32mNone\u001b[0m\u001b[0;34m:\u001b[0m\u001b[0;34m\u001b[0m\u001b[0;34m\u001b[0m\u001b[0m\n\u001b[1;32m    100\u001b[0m                 \u001b[0mme\u001b[0m\u001b[0;34m,\u001b[0m \u001b[0mmf\u001b[0m\u001b[0;34m,\u001b[0m \u001b[0mmv\u001b[0m \u001b[0;34m=\u001b[0m \u001b[0mself\u001b[0m\u001b[0;34m.\u001b[0m\u001b[0mdm\u001b[0m\u001b[0;34m.\u001b[0m\u001b[0meval\u001b[0m\u001b[0;34m(\u001b[0m\u001b[0mcoords\u001b[0m\u001b[0;34m,\u001b[0m \u001b[0mcells\u001b[0m\u001b[0;34m,\u001b[0m \u001b[0matom_types\u001b[0m\u001b[0;34m)\u001b[0m\u001b[0;34m\u001b[0m\u001b[0;34m\u001b[0m\u001b[0m\n",
      "\u001b[0;32m~/.pyenv/versions/miniconda3-latest/envs/deepmd/lib/python3.8/site-packages/deepmd/DeepPot.py\u001b[0m in \u001b[0;36meval_inner\u001b[0;34m(self, coords, cells, atom_types, fparam, aparam, atomic)\u001b[0m\n\u001b[1;32m    184\u001b[0m             \u001b[0;32mif\u001b[0m \u001b[0mself\u001b[0m\u001b[0;34m.\u001b[0m\u001b[0mhas_aparam\u001b[0m\u001b[0;34m:\u001b[0m\u001b[0;34m\u001b[0m\u001b[0;34m\u001b[0m\u001b[0m\n\u001b[1;32m    185\u001b[0m                 \u001b[0mfeed_dict_test\u001b[0m\u001b[0;34m[\u001b[0m\u001b[0mself\u001b[0m\u001b[0;34m.\u001b[0m\u001b[0mt_aparam\u001b[0m\u001b[0;34m]\u001b[0m \u001b[0;34m=\u001b[0m \u001b[0mnp\u001b[0m\u001b[0;34m.\u001b[0m\u001b[0mreshape\u001b[0m\u001b[0;34m(\u001b[0m\u001b[0maparam\u001b[0m\u001b[0;34m[\u001b[0m\u001b[0mii\u001b[0m\u001b[0;34m:\u001b[0m\u001b[0mii\u001b[0m\u001b[0;34m+\u001b[0m\u001b[0;36m1\u001b[0m\u001b[0;34m,\u001b[0m \u001b[0;34m:\u001b[0m\u001b[0;34m]\u001b[0m\u001b[0;34m,\u001b[0m \u001b[0;34m[\u001b[0m\u001b[0;34m-\u001b[0m\u001b[0;36m1\u001b[0m\u001b[0;34m]\u001b[0m\u001b[0;34m)\u001b[0m\u001b[0;34m\u001b[0m\u001b[0;34m\u001b[0m\u001b[0m\n\u001b[0;32m--> 186\u001b[0;31m             \u001b[0mv_out\u001b[0m \u001b[0;34m=\u001b[0m \u001b[0mself\u001b[0m\u001b[0;34m.\u001b[0m\u001b[0msess\u001b[0m\u001b[0;34m.\u001b[0m\u001b[0mrun\u001b[0m \u001b[0;34m(\u001b[0m\u001b[0mt_out\u001b[0m\u001b[0;34m,\u001b[0m \u001b[0mfeed_dict\u001b[0m \u001b[0;34m=\u001b[0m \u001b[0mfeed_dict_test\u001b[0m\u001b[0;34m)\u001b[0m\u001b[0;34m\u001b[0m\u001b[0;34m\u001b[0m\u001b[0m\n\u001b[0m\u001b[1;32m    187\u001b[0m             \u001b[0menergy\u001b[0m\u001b[0;34m.\u001b[0m\u001b[0mappend\u001b[0m\u001b[0;34m(\u001b[0m\u001b[0mv_out\u001b[0m\u001b[0;34m[\u001b[0m\u001b[0;36m0\u001b[0m\u001b[0;34m]\u001b[0m\u001b[0;34m)\u001b[0m\u001b[0;34m\u001b[0m\u001b[0;34m\u001b[0m\u001b[0m\n\u001b[1;32m    188\u001b[0m             \u001b[0mforce\u001b[0m \u001b[0;34m.\u001b[0m\u001b[0mappend\u001b[0m\u001b[0;34m(\u001b[0m\u001b[0mv_out\u001b[0m\u001b[0;34m[\u001b[0m\u001b[0;36m1\u001b[0m\u001b[0;34m]\u001b[0m\u001b[0;34m)\u001b[0m\u001b[0;34m\u001b[0m\u001b[0;34m\u001b[0m\u001b[0m\n",
      "\u001b[0;32m~/.pyenv/versions/miniconda3-latest/envs/deepmd/lib/python3.8/site-packages/tensorflow/python/client/session.py\u001b[0m in \u001b[0;36mrun\u001b[0;34m(self, fetches, feed_dict, options, run_metadata)\u001b[0m\n\u001b[1;32m    955\u001b[0m \u001b[0;34m\u001b[0m\u001b[0m\n\u001b[1;32m    956\u001b[0m     \u001b[0;32mtry\u001b[0m\u001b[0;34m:\u001b[0m\u001b[0;34m\u001b[0m\u001b[0;34m\u001b[0m\u001b[0m\n\u001b[0;32m--> 957\u001b[0;31m       result = self._run(None, fetches, feed_dict, options_ptr,\n\u001b[0m\u001b[1;32m    958\u001b[0m                          run_metadata_ptr)\n\u001b[1;32m    959\u001b[0m       \u001b[0;32mif\u001b[0m \u001b[0mrun_metadata\u001b[0m\u001b[0;34m:\u001b[0m\u001b[0;34m\u001b[0m\u001b[0;34m\u001b[0m\u001b[0m\n",
      "\u001b[0;32m~/.pyenv/versions/miniconda3-latest/envs/deepmd/lib/python3.8/site-packages/tensorflow/python/client/session.py\u001b[0m in \u001b[0;36m_run\u001b[0;34m(self, handle, fetches, feed_dict, options, run_metadata)\u001b[0m\n\u001b[1;32m   1178\u001b[0m     \u001b[0;31m# or if the call is a partial run that specifies feeds.\u001b[0m\u001b[0;34m\u001b[0m\u001b[0;34m\u001b[0m\u001b[0;34m\u001b[0m\u001b[0m\n\u001b[1;32m   1179\u001b[0m     \u001b[0;32mif\u001b[0m \u001b[0mfinal_fetches\u001b[0m \u001b[0;32mor\u001b[0m \u001b[0mfinal_targets\u001b[0m \u001b[0;32mor\u001b[0m \u001b[0;34m(\u001b[0m\u001b[0mhandle\u001b[0m \u001b[0;32mand\u001b[0m \u001b[0mfeed_dict_tensor\u001b[0m\u001b[0;34m)\u001b[0m\u001b[0;34m:\u001b[0m\u001b[0;34m\u001b[0m\u001b[0;34m\u001b[0m\u001b[0m\n\u001b[0;32m-> 1180\u001b[0;31m       results = self._do_run(handle, final_targets, final_fetches,\n\u001b[0m\u001b[1;32m   1181\u001b[0m                              feed_dict_tensor, options, run_metadata)\n\u001b[1;32m   1182\u001b[0m     \u001b[0;32melse\u001b[0m\u001b[0;34m:\u001b[0m\u001b[0;34m\u001b[0m\u001b[0;34m\u001b[0m\u001b[0m\n",
      "\u001b[0;32m~/.pyenv/versions/miniconda3-latest/envs/deepmd/lib/python3.8/site-packages/tensorflow/python/client/session.py\u001b[0m in \u001b[0;36m_do_run\u001b[0;34m(self, handle, target_list, fetch_list, feed_dict, options, run_metadata)\u001b[0m\n\u001b[1;32m   1356\u001b[0m \u001b[0;34m\u001b[0m\u001b[0m\n\u001b[1;32m   1357\u001b[0m     \u001b[0;32mif\u001b[0m \u001b[0mhandle\u001b[0m \u001b[0;32mis\u001b[0m \u001b[0;32mNone\u001b[0m\u001b[0;34m:\u001b[0m\u001b[0;34m\u001b[0m\u001b[0;34m\u001b[0m\u001b[0m\n\u001b[0;32m-> 1358\u001b[0;31m       return self._do_call(_run_fn, feeds, fetches, targets, options,\n\u001b[0m\u001b[1;32m   1359\u001b[0m                            run_metadata)\n\u001b[1;32m   1360\u001b[0m     \u001b[0;32melse\u001b[0m\u001b[0;34m:\u001b[0m\u001b[0;34m\u001b[0m\u001b[0;34m\u001b[0m\u001b[0m\n",
      "\u001b[0;32m~/.pyenv/versions/miniconda3-latest/envs/deepmd/lib/python3.8/site-packages/tensorflow/python/client/session.py\u001b[0m in \u001b[0;36m_do_call\u001b[0;34m(self, fn, *args)\u001b[0m\n\u001b[1;32m   1363\u001b[0m   \u001b[0;32mdef\u001b[0m \u001b[0m_do_call\u001b[0m\u001b[0;34m(\u001b[0m\u001b[0mself\u001b[0m\u001b[0;34m,\u001b[0m \u001b[0mfn\u001b[0m\u001b[0;34m,\u001b[0m \u001b[0;34m*\u001b[0m\u001b[0margs\u001b[0m\u001b[0;34m)\u001b[0m\u001b[0;34m:\u001b[0m\u001b[0;34m\u001b[0m\u001b[0;34m\u001b[0m\u001b[0m\n\u001b[1;32m   1364\u001b[0m     \u001b[0;32mtry\u001b[0m\u001b[0;34m:\u001b[0m\u001b[0;34m\u001b[0m\u001b[0;34m\u001b[0m\u001b[0m\n\u001b[0;32m-> 1365\u001b[0;31m       \u001b[0;32mreturn\u001b[0m \u001b[0mfn\u001b[0m\u001b[0;34m(\u001b[0m\u001b[0;34m*\u001b[0m\u001b[0margs\u001b[0m\u001b[0;34m)\u001b[0m\u001b[0;34m\u001b[0m\u001b[0;34m\u001b[0m\u001b[0m\n\u001b[0m\u001b[1;32m   1366\u001b[0m     \u001b[0;32mexcept\u001b[0m \u001b[0merrors\u001b[0m\u001b[0;34m.\u001b[0m\u001b[0mOpError\u001b[0m \u001b[0;32mas\u001b[0m \u001b[0me\u001b[0m\u001b[0;34m:\u001b[0m\u001b[0;34m\u001b[0m\u001b[0;34m\u001b[0m\u001b[0m\n\u001b[1;32m   1367\u001b[0m       \u001b[0mmessage\u001b[0m \u001b[0;34m=\u001b[0m \u001b[0mcompat\u001b[0m\u001b[0;34m.\u001b[0m\u001b[0mas_text\u001b[0m\u001b[0;34m(\u001b[0m\u001b[0me\u001b[0m\u001b[0;34m.\u001b[0m\u001b[0mmessage\u001b[0m\u001b[0;34m)\u001b[0m\u001b[0;34m\u001b[0m\u001b[0;34m\u001b[0m\u001b[0m\n",
      "\u001b[0;32m~/.pyenv/versions/miniconda3-latest/envs/deepmd/lib/python3.8/site-packages/tensorflow/python/client/session.py\u001b[0m in \u001b[0;36m_run_fn\u001b[0;34m(feed_dict, fetch_list, target_list, options, run_metadata)\u001b[0m\n\u001b[1;32m   1347\u001b[0m       \u001b[0;31m# Ensure any changes to the graph are reflected in the runtime.\u001b[0m\u001b[0;34m\u001b[0m\u001b[0;34m\u001b[0m\u001b[0;34m\u001b[0m\u001b[0m\n\u001b[1;32m   1348\u001b[0m       \u001b[0mself\u001b[0m\u001b[0;34m.\u001b[0m\u001b[0m_extend_graph\u001b[0m\u001b[0;34m(\u001b[0m\u001b[0;34m)\u001b[0m\u001b[0;34m\u001b[0m\u001b[0;34m\u001b[0m\u001b[0m\n\u001b[0;32m-> 1349\u001b[0;31m       return self._call_tf_sessionrun(options, feed_dict, fetch_list,\n\u001b[0m\u001b[1;32m   1350\u001b[0m                                       target_list, run_metadata)\n\u001b[1;32m   1351\u001b[0m \u001b[0;34m\u001b[0m\u001b[0m\n",
      "\u001b[0;32m~/.pyenv/versions/miniconda3-latest/envs/deepmd/lib/python3.8/site-packages/tensorflow/python/client/session.py\u001b[0m in \u001b[0;36m_call_tf_sessionrun\u001b[0;34m(self, options, feed_dict, fetch_list, target_list, run_metadata)\u001b[0m\n\u001b[1;32m   1439\u001b[0m   def _call_tf_sessionrun(self, options, feed_dict, fetch_list, target_list,\n\u001b[1;32m   1440\u001b[0m                           run_metadata):\n\u001b[0;32m-> 1441\u001b[0;31m     return tf_session.TF_SessionRun_wrapper(self._session, options, feed_dict,\n\u001b[0m\u001b[1;32m   1442\u001b[0m                                             \u001b[0mfetch_list\u001b[0m\u001b[0;34m,\u001b[0m \u001b[0mtarget_list\u001b[0m\u001b[0;34m,\u001b[0m\u001b[0;34m\u001b[0m\u001b[0;34m\u001b[0m\u001b[0m\n\u001b[1;32m   1443\u001b[0m                                             run_metadata)\n",
      "\u001b[0;31mKeyboardInterrupt\u001b[0m: "
     ]
    }
   ],
   "source": [
    "T = 300\n",
    "MaxwellBoltzmannDistribution(newstr, T * units.kB)\n",
    "# We want to run MD with constant energy using the VelocityVerlet algorithm.\n",
    "dyn = VelocityVerlet(newstr, 0.5 * units.fs)  # 1 fs time step.\n",
    "\n",
    "# NVT\n",
    "dyn = Langevin(newstr, 15*units.fs, T*units.kB, 0.002)\n",
    "\n",
    "def printenergy(a=newstr):\n",
    "    \"\"\"Function to print the potential, kinetic and total energy\"\"\"\n",
    "    epot = a.get_potential_energy() / len(a)\n",
    "    ekin = a.get_kinetic_energy() / len(a)\n",
    "    print('Energy per atom: Epot = %.3feV  Ekin = %.3feV (T=%3.0fK)  '\n",
    "          'Etot = %.3feV' % (epot, ekin, ekin / (1.5 * units.kB), epot + ekin))\n",
    "\n",
    "newstr.set_constraint(atoms_tobefixed)\n",
    "traj = Trajectory('moltest.traj', 'w', newstr)\n",
    "dyn.attach(traj.write, interval=10)\n",
    "dyn.attach(printenergy, interval=10)\n",
    "\n",
    "# Now run the dynamics\n",
    "printenergy(newstr)\n",
    "dyn.run(30000)"
   ]
  },
  {
   "cell_type": "code",
   "execution_count": 41,
   "metadata": {},
   "outputs": [],
   "source": [
    "from xtb.ase.calculator import XTB"
   ]
  },
  {
   "cell_type": "code",
   "execution_count": 46,
   "metadata": {},
   "outputs": [
    {
     "data": {
      "text/plain": [
       "-8.912667188932252"
      ]
     },
     "execution_count": 46,
     "metadata": {},
     "output_type": "execute_result"
    }
   ],
   "source": [
    "from ase.build import molecule\n",
    "from xtb.ase.calculator import XTB\n",
    "atoms = molecule('H2O')\n",
    "atoms.calc = XTB(method=\"GFNFF\")\n",
    "atoms.get_potential_energy()"
   ]
  },
  {
   "cell_type": "code",
   "execution_count": 47,
   "metadata": {},
   "outputs": [],
   "source": [
    "newstrxtb=read(\"example_0_pk157415_C36H240Au896/C36H16.pdb\")\n",
    "newstrxtb.pbc=False\n",
    "#newstrxtb.calc=XTB(method=\"GFN2-xTB\")\n",
    "newstrxtb.calc=XTB(method=\"GFNFF\")"
   ]
  },
  {
   "cell_type": "code",
   "execution_count": 48,
   "metadata": {},
   "outputs": [
    {
     "data": {
      "text/plain": [
       "-331.25952791533"
      ]
     },
     "execution_count": 48,
     "metadata": {},
     "output_type": "execute_result"
    }
   ],
   "source": [
    "newstrxtb.get_potential_energy()"
   ]
  },
  {
   "cell_type": "code",
   "execution_count": 49,
   "metadata": {},
   "outputs": [
    {
     "data": {
      "text/plain": [
       "array([[ 1.72187101, -1.50015425,  1.30259358],\n",
       "       [-0.14412138,  2.3882399 ,  1.32592581],\n",
       "       [-0.00405131, -0.40746461, -0.30760217],\n",
       "       [ 0.42428782, -0.03220145,  0.01206812],\n",
       "       [ 0.28310868,  0.25856275, -0.31272143],\n",
       "       [-0.30887883, -0.27381145,  0.010493  ],\n",
       "       [-1.83190824,  2.14918316, -0.63410253],\n",
       "       [-0.33020907, -2.83717516, -0.62020549],\n",
       "       [ 0.37260968, -0.42357859, -0.02752084],\n",
       "       [-0.04237358,  0.19964135, -0.15805005],\n",
       "       [ 0.06681635,  0.55720544,  0.03030967],\n",
       "       [-0.21702531, -0.28513498, -0.1975027 ],\n",
       "       [ 0.02454454, -0.14967138,  0.02598538],\n",
       "       [-0.01654804,  0.05710393, -0.06829203],\n",
       "       [-0.34653615, -0.34915385,  0.03263258],\n",
       "       [-0.43740266, -1.09576663,  0.0453132 ],\n",
       "       [ 0.54673967, -0.12920204,  0.01348441],\n",
       "       [ 0.32781217,  0.42843484, -0.11685215],\n",
       "       [ 1.36458373,  0.32892183,  0.15083752],\n",
       "       [-0.43926   ,  0.0226114 ,  0.03225463],\n",
       "       [ 0.40102722, -0.4050857 , -0.05124107],\n",
       "       [-0.57683064,  0.03994469, -0.20966151],\n",
       "       [ 0.20951085, -0.30624097,  0.00371123],\n",
       "       [-0.22752546,  1.0565212 ,  0.05850281],\n",
       "       [ 0.52471349, -0.22816365,  0.04896038],\n",
       "       [-0.24612385,  0.24901665,  0.03200697],\n",
       "       [ 0.00913392,  0.55040417, -0.08873552],\n",
       "       [ 0.45498617, -0.04757564, -0.03747284],\n",
       "       [-0.00739085, -0.44180823, -0.07389198],\n",
       "       [ 0.154214  ,  0.38296567, -0.01690345],\n",
       "       [-0.82524135, -0.80945081, -0.09208305],\n",
       "       [ 0.09307799, -0.27890448,  0.01637096],\n",
       "       [-0.45438092,  0.43383523, -0.01415612],\n",
       "       [ 0.06142734,  0.17804342,  0.02810061],\n",
       "       [-0.28385931,  0.36405907, -0.02398411],\n",
       "       [-0.34424375,  0.37673502,  0.00851673],\n",
       "       [-0.13849781,  0.14647512, -0.05348293],\n",
       "       [-1.02688065, -0.68554378,  0.03488245],\n",
       "       [ 1.01911695,  1.48850867, -0.07399339],\n",
       "       [ 0.07396166, -0.57076953, -0.00720275],\n",
       "       [-0.26054396, -0.00890097, -0.01492817],\n",
       "       [ 0.6498635 ,  0.19992592, -0.09157732],\n",
       "       [-0.55540706,  0.05011932,  0.04339869],\n",
       "       [ 0.36456193, -0.82016406, -0.08781691],\n",
       "       [-0.37323737,  0.20901087, -0.01530854],\n",
       "       [-0.19321093,  0.67415259,  0.20028072],\n",
       "       [ 1.12932258, -1.78799058,  0.07453084],\n",
       "       [ 0.37383871,  0.3433579 , -0.04739964],\n",
       "       [ 0.65702558,  0.75461369,  0.07029747],\n",
       "       [-1.26397596,  1.9745622 , -0.02306344],\n",
       "       [ 0.08616298, -1.99939184, -0.104078  ],\n",
       "       [-0.49865406,  0.0111486 , -0.03162763]])"
      ]
     },
     "execution_count": 49,
     "metadata": {},
     "output_type": "execute_result"
    }
   ],
   "source": [
    "newstrxtb.get_forces()"
   ]
  },
  {
   "cell_type": "code",
   "execution_count": 4,
   "metadata": {},
   "outputs": [],
   "source": [
    "from deepmd.calculator import DP"
   ]
  },
  {
   "cell_type": "code",
   "execution_count": 52,
   "metadata": {},
   "outputs": [],
   "source": [
    "newstr=read(\"example_0_pk157415_C36H240Au896/C36H16.pdb\")\n",
    "newstr.calc = DP(model=\"graph-new-hpz4.db\")"
   ]
  },
  {
   "cell_type": "code",
   "execution_count": 53,
   "metadata": {},
   "outputs": [
    {
     "data": {
      "text/plain": [
       "array([-5804.27991047])"
      ]
     },
     "execution_count": 53,
     "metadata": {},
     "output_type": "execute_result"
    }
   ],
   "source": [
    "newstr.get_potential_energy()"
   ]
  },
  {
   "cell_type": "code",
   "execution_count": 54,
   "metadata": {},
   "outputs": [
    {
     "data": {
      "text/plain": [
       "array([[ 6.89101991e-01, -1.07270988e+00, -6.63647036e-01],\n",
       "       [ 2.55710298e-01,  1.29406506e+00, -7.07480051e-01],\n",
       "       [ 5.20782827e-02, -4.83514080e-01,  3.85997637e-01],\n",
       "       [ 3.90688908e-01, -2.06817496e-02,  6.16289601e-02],\n",
       "       [ 3.05133896e-01,  3.76852141e-01,  3.99076416e-01],\n",
       "       [-3.27991774e-01, -1.61922365e-01,  3.63269438e-02],\n",
       "       [-1.70460272e+00,  2.66923745e-01,  2.27514268e-01],\n",
       "       [ 8.93262172e-01, -1.18793222e+00,  2.59816732e-01],\n",
       "       [ 3.38996548e-01, -1.34126433e-01,  8.94576507e-04],\n",
       "       [-2.81824423e-02, -1.55853977e+00,  7.15269427e-01],\n",
       "       [-1.31153390e-01,  3.56618041e-01, -5.15365286e-02],\n",
       "       [ 1.26835569e+00,  7.79435422e-01,  7.08408049e-01],\n",
       "       [ 1.17329457e+00, -6.22465033e-01, -8.21246755e-02],\n",
       "       [-3.16542493e-01,  1.27013954e+00,  7.91128818e-03],\n",
       "       [-1.82941197e-01, -1.54120187e-01, -3.84235985e-02],\n",
       "       [-1.04826401e+00, -5.93044837e-01,  1.67476432e-02],\n",
       "       [ 4.09422909e-01, -5.38378864e-04,  1.02548003e-02],\n",
       "       [ 7.79620076e-01,  1.40541637e+00, -3.74804546e-01],\n",
       "       [ 1.12777100e+00, -3.36194116e-01, -9.76835311e-03],\n",
       "       [-2.59601778e-01,  7.19648470e-02, -1.12515560e-02],\n",
       "       [-2.27194611e-01, -9.22132444e-01, -5.71119407e-03],\n",
       "       [-1.27976392e+00, -2.03282263e-01, -3.20949245e-01],\n",
       "       [ 1.16625737e+00, -4.80250314e-01,  5.77146388e-02],\n",
       "       [ 6.17429963e-01,  3.81334353e-01, -7.56612163e-02],\n",
       "       [ 2.40441426e-01, -2.78357845e-01, -4.49109429e-02],\n",
       "       [-1.16138277e+00,  8.52598772e-01,  2.64174410e-02],\n",
       "       [-1.05574852e-01,  5.45760007e-01,  3.26582664e-02],\n",
       "       [ 2.63917641e-01, -5.80235368e-03, -3.70921705e-02],\n",
       "       [ 5.63107612e-01, -3.21674719e-01,  1.84922591e-01],\n",
       "       [-4.12982986e-01,  1.21805861e+00,  6.41265831e-02],\n",
       "       [-1.19711518e-01, -1.18059569e+00, -3.35470600e-02],\n",
       "       [ 6.03169831e-02,  1.18053407e-03,  2.23718806e-02],\n",
       "       [ 5.11415701e-01,  8.77666130e-01, -1.86847257e-01],\n",
       "       [-9.41549299e-01,  3.74025790e-01, -2.00308802e-02],\n",
       "       [-1.86123216e-01,  2.32312292e-01, -6.63459086e-02],\n",
       "       [-1.45031801e-01,  1.80741694e-01, -3.03557097e-02],\n",
       "       [-9.89244123e-02, -1.19564657e-01,  1.91784385e-02],\n",
       "       [-6.51709452e-01, -1.34011470e+00,  6.09070165e-03],\n",
       "       [ 2.61756995e-01,  2.89005881e-01, -3.34453177e-03],\n",
       "       [-9.03493620e-01, -4.34156128e-01, -1.90706012e-01],\n",
       "       [-6.29740360e-03, -1.51753895e+00,  1.59812498e-02],\n",
       "       [ 6.43537355e-01,  8.74506867e-01, -8.68461129e-02],\n",
       "       [-6.25293458e-01,  9.14242282e-01,  1.09030584e-01],\n",
       "       [ 4.38644162e-01,  3.29331844e-02, -1.25008383e-01],\n",
       "       [-4.94121949e-01,  2.14772660e-01, -3.04207976e-02],\n",
       "       [-8.22516090e-01,  1.04974962e+00, -6.80262359e-02],\n",
       "       [ 1.82270802e+00, -1.23830425e+00,  1.15504992e-01],\n",
       "       [ 6.69033701e-02,  3.18663609e-01,  1.58757815e-02],\n",
       "       [ 8.06590437e-01,  8.34855575e-01, -1.79671793e-01],\n",
       "       [-1.98874106e+00,  9.72690962e-01,  2.96792433e-02],\n",
       "       [-7.20173149e-01, -1.64061362e+00, -6.23930945e-02],\n",
       "       [-2.56597999e-01,  2.16630023e-02, -2.24942422e-02]])"
      ]
     },
     "execution_count": 54,
     "metadata": {},
     "output_type": "execute_result"
    }
   ],
   "source": [
    "newstrxtb.get_forces()-newstr.get_forces()"
   ]
  },
  {
   "cell_type": "markdown",
   "metadata": {},
   "source": [
    "## MIXING CALCULATORS"
   ]
  },
  {
   "cell_type": "code",
   "execution_count": 64,
   "metadata": {},
   "outputs": [],
   "source": [
    "newstr_gnff=read(\"example_0_pk157415_C36H240Au896/C36H16.pdb\")\n",
    "newstr_xtb=read(\"example_0_pk157415_C36H240Au896/C36H16.pdb\")"
   ]
  },
  {
   "cell_type": "code",
   "execution_count": 65,
   "metadata": {},
   "outputs": [],
   "source": [
    "newstr_gnff.pbc=False\n",
    "#newstrxtb.calc=XTB(method=\"GFN2-xTB\")\n",
    "newstr_gnff.calc=XTB(method=\"GFNFF\")\n",
    "\n",
    "newstr_xtb.pbc=False\n",
    "newstr_xtb.calc=XTB(method=\"GFN2-xTB\")"
   ]
  },
  {
   "cell_type": "code",
   "execution_count": 70,
   "metadata": {},
   "outputs": [],
   "source": [
    "from ase.calculators.mixing import AverageCalculator,SumCalculator"
   ]
  },
  {
   "cell_type": "code",
   "execution_count": 61,
   "metadata": {},
   "outputs": [],
   "source": [
    "newstr=read(\"example_0_pk157415_C36H240Au896/C36H16.pdb\")\n",
    "newstr.pbc=False"
   ]
  },
  {
   "cell_type": "code",
   "execution_count": 67,
   "metadata": {},
   "outputs": [],
   "source": [
    "newstr.calc=AverageCalculator([XTB(method=\"GFNFF\"),XTB(method=\"GFN2-xTB\")])"
   ]
  },
  {
   "cell_type": "code",
   "execution_count": 68,
   "metadata": {},
   "outputs": [
    {
     "data": {
      "text/plain": [
       "-1324.2741670876662"
      ]
     },
     "execution_count": 68,
     "metadata": {},
     "output_type": "execute_result"
    }
   ],
   "source": [
    "newstr.get_potential_energy()"
   ]
  },
  {
   "cell_type": "code",
   "execution_count": 69,
   "metadata": {},
   "outputs": [
    {
     "data": {
      "text/plain": [
       "-1324.2741670876649"
      ]
     },
     "execution_count": 69,
     "metadata": {},
     "output_type": "execute_result"
    }
   ],
   "source": [
    "(newstr_xtb.get_potential_energy()+newstr_gnff.get_potential_energy())/2"
   ]
  },
  {
   "cell_type": "code",
   "execution_count": 71,
   "metadata": {},
   "outputs": [
    {
     "data": {
      "text/plain": [
       "-2648.5483341753315"
      ]
     },
     "execution_count": 71,
     "metadata": {},
     "output_type": "execute_result"
    }
   ],
   "source": [
    "newstr.calc=SumCalculator([XTB(method=\"GFNFF\"),XTB(method=\"GFN2-xTB\")])\n",
    "newstr.get_potential_energy()"
   ]
  },
  {
   "cell_type": "code",
   "execution_count": 72,
   "metadata": {},
   "outputs": [
    {
     "data": {
      "text/plain": [
       "-2648.5483341753297"
      ]
     },
     "execution_count": 72,
     "metadata": {},
     "output_type": "execute_result"
    }
   ],
   "source": [
    "newstr_xtb.get_potential_energy()+newstr_gnff.get_potential_energy()"
   ]
  },
  {
   "cell_type": "code",
   "execution_count": null,
   "metadata": {},
   "outputs": [],
   "source": []
  }
 ],
 "metadata": {
  "kernelspec": {
   "display_name": "Python 3",
   "language": "python",
   "name": "python3"
  },
  "language_info": {
   "codemirror_mode": {
    "name": "ipython",
    "version": 3
   },
   "file_extension": ".py",
   "mimetype": "text/x-python",
   "name": "python",
   "nbconvert_exporter": "python",
   "pygments_lexer": "ipython3",
   "version": "3.8.5"
  }
 },
 "nbformat": 4,
 "nbformat_minor": 4
}
